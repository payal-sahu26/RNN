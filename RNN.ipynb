{
  "nbformat": 4,
  "nbformat_minor": 0,
  "metadata": {
    "colab": {
      "provenance": [],
      "authorship_tag": "ABX9TyNlkf8YBPaosB+nkAwUpAqW",
      "include_colab_link": true
    },
    "kernelspec": {
      "name": "python3",
      "display_name": "Python 3"
    },
    "language_info": {
      "name": "python"
    }
  },
  "cells": [
    {
      "cell_type": "markdown",
      "metadata": {
        "id": "view-in-github",
        "colab_type": "text"
      },
      "source": [
        "<a href=\"https://colab.research.google.com/github/payal-sahu26/RNN/blob/main/RNN.ipynb\" target=\"_parent\"><img src=\"https://colab.research.google.com/assets/colab-badge.svg\" alt=\"Open In Colab\"/></a>"
      ]
    },
    {
      "cell_type": "code",
      "execution_count": null,
      "metadata": {
        "id": "sAK60P8Bl-Q3"
      },
      "outputs": [],
      "source": [
        "import numpy as np\n",
        "from tensorflow.keras.models import Sequential\n",
        "from tensorflow.keras.layers import SimpleRNN, Dense\n",
        "\n",
        "# Step 2: Generate training data for sequences like [1, 2, 3] -> 4\n",
        "X = []\n",
        "y = []\n",
        "for i in range(1, 10):\n",
        "    X.append([i, i + 1, i + 2])  # input sequence\n",
        "        y.append(i + 3)  # next number\n",
        "\n",
        "        X = np.array(X).reshape((len(X), 3, 1)) # reshape for RNN (samples, time steps, features)\n",
        "        y = np.array(y)\n",
        "\n",
        "        # Step 3: Build the RNN model\n",
        "        model = Sequential()\n",
        "        model.add(SimpleRNN(10, activation='relu', input_shape=(3, 1)))\n",
        "        model.add(Dense(1))\n",
        "        model.compile(optimizer='adam', loss='mse')\n",
        "\n",
        "        # Train the model\n",
        "        model.fit(X, y, epochs=100, verbose=1)\n",
        "        #step 4\n",
        "        #Test the model with a new sequence\n",
        "        import numpy as np\n",
        "        test_input = np.array([[10, 11, 12]]).reshape((1, 3, 1))\n",
        "        predicted = model.predict(test_input, verbose=0)\n",
        "        print(f\"Input Sequence: [10, 11, 12]\")\n",
        "        print(f\"Predicted Next Number: {round(float(predicted[0][0]), 2)\")r"
      ]
    }
  ]
}